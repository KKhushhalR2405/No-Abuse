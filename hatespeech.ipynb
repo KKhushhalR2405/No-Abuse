{
 "cells": [
  {
   "cell_type": "markdown",
   "metadata": {
    "id": "jzBbDaUcC8oX"
   },
   "source": [
    "## Logistic Regression Model"
   ]
  },
  {
   "cell_type": "code",
   "execution_count": 33,
   "metadata": {
    "executionInfo": {
     "elapsed": 1447,
     "status": "ok",
     "timestamp": 1607445910089,
     "user": {
      "displayName": "Not Aladeen",
      "photoUrl": "",
      "userId": "08289233199743352958"
     },
     "user_tz": -330
    },
    "id": "PGYjlsLivsGb"
   },
   "outputs": [],
   "source": [
    "import numpy as np\n",
    "import pandas as pd\n",
    "from matplotlib import pyplot as plt\n",
    "%matplotlib inline\n",
    "import seaborn as sns\n",
    "import re"
   ]
  },
  {
   "cell_type": "code",
   "execution_count": 34,
   "metadata": {
    "colab": {
     "base_uri": "https://localhost:8080/",
     "height": 204
    },
    "executionInfo": {
     "elapsed": 2897,
     "status": "ok",
     "timestamp": 1607445911564,
     "user": {
      "displayName": "Not Aladeen",
      "photoUrl": "",
      "userId": "08289233199743352958"
     },
     "user_tz": -330
    },
    "id": "flxFPhsv1QvI",
    "outputId": "1d018bae-0063-4df8-e4cc-ed36beb52fe6"
   },
   "outputs": [
    {
     "data": {
      "text/html": [
       "<div>\n",
       "<style scoped>\n",
       "    .dataframe tbody tr th:only-of-type {\n",
       "        vertical-align: middle;\n",
       "    }\n",
       "\n",
       "    .dataframe tbody tr th {\n",
       "        vertical-align: top;\n",
       "    }\n",
       "\n",
       "    .dataframe thead th {\n",
       "        text-align: right;\n",
       "    }\n",
       "</style>\n",
       "<table border=\"1\" class=\"dataframe\">\n",
       "  <thead>\n",
       "    <tr style=\"text-align: right;\">\n",
       "      <th></th>\n",
       "      <th>id</th>\n",
       "      <th>comment_text</th>\n",
       "      <th>toxic</th>\n",
       "      <th>severe_toxic</th>\n",
       "      <th>obscene</th>\n",
       "      <th>threat</th>\n",
       "      <th>insult</th>\n",
       "      <th>identity_hate</th>\n",
       "    </tr>\n",
       "  </thead>\n",
       "  <tbody>\n",
       "    <tr>\n",
       "      <th>0</th>\n",
       "      <td>0000997932d777bf</td>\n",
       "      <td>Explanation\\nWhy the edits made under my usern...</td>\n",
       "      <td>0</td>\n",
       "      <td>0</td>\n",
       "      <td>0</td>\n",
       "      <td>0</td>\n",
       "      <td>0</td>\n",
       "      <td>0</td>\n",
       "    </tr>\n",
       "    <tr>\n",
       "      <th>1</th>\n",
       "      <td>000103f0d9cfb60f</td>\n",
       "      <td>D'aww! He matches this background colour I'm s...</td>\n",
       "      <td>0</td>\n",
       "      <td>0</td>\n",
       "      <td>0</td>\n",
       "      <td>0</td>\n",
       "      <td>0</td>\n",
       "      <td>0</td>\n",
       "    </tr>\n",
       "    <tr>\n",
       "      <th>2</th>\n",
       "      <td>000113f07ec002fd</td>\n",
       "      <td>Hey man, I'm really not trying to edit war. It...</td>\n",
       "      <td>0</td>\n",
       "      <td>0</td>\n",
       "      <td>0</td>\n",
       "      <td>0</td>\n",
       "      <td>0</td>\n",
       "      <td>0</td>\n",
       "    </tr>\n",
       "    <tr>\n",
       "      <th>3</th>\n",
       "      <td>0001b41b1c6bb37e</td>\n",
       "      <td>\"\\nMore\\nI can't make any real suggestions on ...</td>\n",
       "      <td>0</td>\n",
       "      <td>0</td>\n",
       "      <td>0</td>\n",
       "      <td>0</td>\n",
       "      <td>0</td>\n",
       "      <td>0</td>\n",
       "    </tr>\n",
       "    <tr>\n",
       "      <th>4</th>\n",
       "      <td>0001d958c54c6e35</td>\n",
       "      <td>You, sir, are my hero. Any chance you remember...</td>\n",
       "      <td>0</td>\n",
       "      <td>0</td>\n",
       "      <td>0</td>\n",
       "      <td>0</td>\n",
       "      <td>0</td>\n",
       "      <td>0</td>\n",
       "    </tr>\n",
       "  </tbody>\n",
       "</table>\n",
       "</div>"
      ],
      "text/plain": [
       "                 id                                       comment_text  toxic  \\\n",
       "0  0000997932d777bf  Explanation\\nWhy the edits made under my usern...      0   \n",
       "1  000103f0d9cfb60f  D'aww! He matches this background colour I'm s...      0   \n",
       "2  000113f07ec002fd  Hey man, I'm really not trying to edit war. It...      0   \n",
       "3  0001b41b1c6bb37e  \"\\nMore\\nI can't make any real suggestions on ...      0   \n",
       "4  0001d958c54c6e35  You, sir, are my hero. Any chance you remember...      0   \n",
       "\n",
       "   severe_toxic  obscene  threat  insult  identity_hate  \n",
       "0             0        0       0       0              0  \n",
       "1             0        0       0       0              0  \n",
       "2             0        0       0       0              0  \n",
       "3             0        0       0       0              0  \n",
       "4             0        0       0       0              0  "
      ]
     },
     "execution_count": 34,
     "metadata": {},
     "output_type": "execute_result"
    }
   ],
   "source": [
    "data = pd.read_csv(\"./dataset/train.csv\")  ## path\n",
    "data.head()"
   ]
  },
  {
   "cell_type": "code",
   "execution_count": 35,
   "metadata": {
    "colab": {
     "base_uri": "https://localhost:8080/"
    },
    "executionInfo": {
     "elapsed": 2877,
     "status": "ok",
     "timestamp": 1607445911568,
     "user": {
      "displayName": "Not Aladeen",
      "photoUrl": "",
      "userId": "08289233199743352958"
     },
     "user_tz": -330
    },
    "id": "5X89ihlZDHik",
    "outputId": "a1fe7ed7-dd42-402f-939b-2e2513cb594b"
   },
   "outputs": [
    {
     "data": {
      "text/plain": [
       "Index(['id', 'comment_text', 'toxic', 'severe_toxic', 'obscene', 'threat',\n",
       "       'insult', 'identity_hate'],\n",
       "      dtype='object')"
      ]
     },
     "execution_count": 35,
     "metadata": {},
     "output_type": "execute_result"
    }
   ],
   "source": [
    "data.columns"
   ]
  },
  {
   "cell_type": "code",
   "execution_count": 36,
   "metadata": {
    "colab": {
     "base_uri": "https://localhost:8080/"
    },
    "executionInfo": {
     "elapsed": 2858,
     "status": "ok",
     "timestamp": 1607445911571,
     "user": {
      "displayName": "Not Aladeen",
      "photoUrl": "",
      "userId": "08289233199743352958"
     },
     "user_tz": -330
    },
    "id": "dss9GOMzDbxQ",
    "outputId": "6fb251c9-2f76-4098-f401-8379ccff5fdb"
   },
   "outputs": [
    {
     "data": {
      "text/plain": [
       "(159571, 8)"
      ]
     },
     "execution_count": 36,
     "metadata": {},
     "output_type": "execute_result"
    }
   ],
   "source": [
    "data.shape "
   ]
  },
  {
   "cell_type": "code",
   "execution_count": 37,
   "metadata": {
    "executionInfo": {
     "elapsed": 2839,
     "status": "ok",
     "timestamp": 1607445911574,
     "user": {
      "displayName": "Not Aladeen",
      "photoUrl": "",
      "userId": "08289233199743352958"
     },
     "user_tz": -330
    },
    "id": "aVpQ_pUODe83"
   },
   "outputs": [],
   "source": [
    "cols_target = ['obscene','insult','toxic','severe_toxic','identity_hate','threat']"
   ]
  },
  {
   "cell_type": "code",
   "execution_count": 38,
   "metadata": {
    "colab": {
     "base_uri": "https://localhost:8080/"
    },
    "executionInfo": {
     "elapsed": 2823,
     "status": "ok",
     "timestamp": 1607445911576,
     "user": {
      "displayName": "Not Aladeen",
      "photoUrl": "",
      "userId": "08289233199743352958"
     },
     "user_tz": -330
    },
    "id": "OFS7gnpODhbM",
    "outputId": "b5cec978-a67b-478f-b48b-8816a9ec8de6"
   },
   "outputs": [
    {
     "name": "stdout",
     "output_type": "stream",
     "text": [
      "0\n"
     ]
    }
   ],
   "source": [
    "print(data[\"comment_text\"].isna().sum())"
   ]
  },
  {
   "cell_type": "code",
   "execution_count": 39,
   "metadata": {
    "colab": {
     "base_uri": "https://localhost:8080/",
     "height": 297
    },
    "executionInfo": {
     "elapsed": 2811,
     "status": "ok",
     "timestamp": 1607445911579,
     "user": {
      "displayName": "Not Aladeen",
      "photoUrl": "",
      "userId": "08289233199743352958"
     },
     "user_tz": -330
    },
    "id": "a5vGiP-jDjdU",
    "outputId": "cd9f9c80-cca5-45ce-84d5-4b53e2275058"
   },
   "outputs": [
    {
     "data": {
      "text/html": [
       "<div>\n",
       "<style scoped>\n",
       "    .dataframe tbody tr th:only-of-type {\n",
       "        vertical-align: middle;\n",
       "    }\n",
       "\n",
       "    .dataframe tbody tr th {\n",
       "        vertical-align: top;\n",
       "    }\n",
       "\n",
       "    .dataframe thead th {\n",
       "        text-align: right;\n",
       "    }\n",
       "</style>\n",
       "<table border=\"1\" class=\"dataframe\">\n",
       "  <thead>\n",
       "    <tr style=\"text-align: right;\">\n",
       "      <th></th>\n",
       "      <th>toxic</th>\n",
       "      <th>severe_toxic</th>\n",
       "      <th>obscene</th>\n",
       "      <th>threat</th>\n",
       "      <th>insult</th>\n",
       "      <th>identity_hate</th>\n",
       "    </tr>\n",
       "  </thead>\n",
       "  <tbody>\n",
       "    <tr>\n",
       "      <th>count</th>\n",
       "      <td>159571.000000</td>\n",
       "      <td>159571.000000</td>\n",
       "      <td>159571.000000</td>\n",
       "      <td>159571.000000</td>\n",
       "      <td>159571.000000</td>\n",
       "      <td>159571.000000</td>\n",
       "    </tr>\n",
       "    <tr>\n",
       "      <th>mean</th>\n",
       "      <td>0.095844</td>\n",
       "      <td>0.009996</td>\n",
       "      <td>0.052948</td>\n",
       "      <td>0.002996</td>\n",
       "      <td>0.049364</td>\n",
       "      <td>0.008805</td>\n",
       "    </tr>\n",
       "    <tr>\n",
       "      <th>std</th>\n",
       "      <td>0.294379</td>\n",
       "      <td>0.099477</td>\n",
       "      <td>0.223931</td>\n",
       "      <td>0.054650</td>\n",
       "      <td>0.216627</td>\n",
       "      <td>0.093420</td>\n",
       "    </tr>\n",
       "    <tr>\n",
       "      <th>min</th>\n",
       "      <td>0.000000</td>\n",
       "      <td>0.000000</td>\n",
       "      <td>0.000000</td>\n",
       "      <td>0.000000</td>\n",
       "      <td>0.000000</td>\n",
       "      <td>0.000000</td>\n",
       "    </tr>\n",
       "    <tr>\n",
       "      <th>25%</th>\n",
       "      <td>0.000000</td>\n",
       "      <td>0.000000</td>\n",
       "      <td>0.000000</td>\n",
       "      <td>0.000000</td>\n",
       "      <td>0.000000</td>\n",
       "      <td>0.000000</td>\n",
       "    </tr>\n",
       "    <tr>\n",
       "      <th>50%</th>\n",
       "      <td>0.000000</td>\n",
       "      <td>0.000000</td>\n",
       "      <td>0.000000</td>\n",
       "      <td>0.000000</td>\n",
       "      <td>0.000000</td>\n",
       "      <td>0.000000</td>\n",
       "    </tr>\n",
       "    <tr>\n",
       "      <th>75%</th>\n",
       "      <td>0.000000</td>\n",
       "      <td>0.000000</td>\n",
       "      <td>0.000000</td>\n",
       "      <td>0.000000</td>\n",
       "      <td>0.000000</td>\n",
       "      <td>0.000000</td>\n",
       "    </tr>\n",
       "    <tr>\n",
       "      <th>max</th>\n",
       "      <td>1.000000</td>\n",
       "      <td>1.000000</td>\n",
       "      <td>1.000000</td>\n",
       "      <td>1.000000</td>\n",
       "      <td>1.000000</td>\n",
       "      <td>1.000000</td>\n",
       "    </tr>\n",
       "  </tbody>\n",
       "</table>\n",
       "</div>"
      ],
      "text/plain": [
       "               toxic   severe_toxic        obscene         threat  \\\n",
       "count  159571.000000  159571.000000  159571.000000  159571.000000   \n",
       "mean        0.095844       0.009996       0.052948       0.002996   \n",
       "std         0.294379       0.099477       0.223931       0.054650   \n",
       "min         0.000000       0.000000       0.000000       0.000000   \n",
       "25%         0.000000       0.000000       0.000000       0.000000   \n",
       "50%         0.000000       0.000000       0.000000       0.000000   \n",
       "75%         0.000000       0.000000       0.000000       0.000000   \n",
       "max         1.000000       1.000000       1.000000       1.000000   \n",
       "\n",
       "              insult  identity_hate  \n",
       "count  159571.000000  159571.000000  \n",
       "mean        0.049364       0.008805  \n",
       "std         0.216627       0.093420  \n",
       "min         0.000000       0.000000  \n",
       "25%         0.000000       0.000000  \n",
       "50%         0.000000       0.000000  \n",
       "75%         0.000000       0.000000  \n",
       "max         1.000000       1.000000  "
      ]
     },
     "execution_count": 39,
     "metadata": {},
     "output_type": "execute_result"
    }
   ],
   "source": [
    "data.describe()"
   ]
  },
  {
   "cell_type": "code",
   "execution_count": 40,
   "metadata": {
    "colab": {
     "base_uri": "https://localhost:8080/"
    },
    "executionInfo": {
     "elapsed": 2800,
     "status": "ok",
     "timestamp": 1607445911583,
     "user": {
      "displayName": "Not Aladeen",
      "photoUrl": "",
      "userId": "08289233199743352958"
     },
     "user_tz": -330
    },
    "id": "erKvz-pXDl78",
    "outputId": "2bfe0754-f019-4e02-adc1-7616b08c7801"
   },
   "outputs": [
    {
     "name": "stdout",
     "output_type": "stream",
     "text": [
      "Percentage of unlabelled comments or good comments is  89.83211235124176\n"
     ]
    }
   ],
   "source": [
    "unlabelled_in_all = data[(data['toxic']!=1) & (data['severe_toxic']!=1) &\n",
    "                             (data['obscene']!=1) & (data['threat']!=1) &\n",
    "                             (data['insult']!=1) & (data['identity_hate']!=1)]\n",
    "print('Percentage of unlabelled comments or good comments is ', len(unlabelled_in_all)/len(data)*100)"
   ]
  },
  {
   "cell_type": "code",
   "execution_count": 41,
   "metadata": {
    "colab": {
     "base_uri": "https://localhost:8080/"
    },
    "executionInfo": {
     "elapsed": 2784,
     "status": "ok",
     "timestamp": 1607445911585,
     "user": {
      "displayName": "Not Aladeen",
      "photoUrl": "",
      "userId": "08289233199743352958"
     },
     "user_tz": -330
    },
    "id": "ZZ1CyM0jDp6k",
    "outputId": "4de658d0-dabd-4a81-84da-cbd2f28839b3"
   },
   "outputs": [
    {
     "name": "stdout",
     "output_type": "stream",
     "text": [
      "Percentage of comments which is present in all categories is  0.019427088882065038\n"
     ]
    }
   ],
   "source": [
    "labelled_in_all = data[(data['toxic']==1) & (data['severe_toxic']==1) &\n",
    "                             (data['obscene']==1) & (data['threat']==1) &\n",
    "                             (data['insult']==1) & (data['identity_hate']==1)]\n",
    "print('Percentage of comments which is present in all categories is ', len(labelled_in_all)/len(data)*100)"
   ]
  },
  {
   "cell_type": "code",
   "execution_count": 42,
   "metadata": {
    "colab": {
     "base_uri": "https://localhost:8080/"
    },
    "executionInfo": {
     "elapsed": 2770,
     "status": "ok",
     "timestamp": 1607445911587,
     "user": {
      "displayName": "Not Aladeen",
      "photoUrl": "",
      "userId": "08289233199743352958"
     },
     "user_tz": -330
    },
    "id": "nrEvsp5uDwDm",
    "outputId": "0ac028dd-8960-45ff-b240-8654218c7915"
   },
   "outputs": [
    {
     "name": "stdout",
     "output_type": "stream",
     "text": [
      "Total rows in train is 159571\n",
      "obscene           8449\n",
      "insult            7877\n",
      "toxic            15294\n",
      "severe_toxic      1595\n",
      "identity_hate     1405\n",
      "threat             478\n",
      "dtype: int64\n"
     ]
    }
   ],
   "source": [
    "print('Total rows in train is {}'.format(len(data)))\n",
    "print(data[cols_target].sum())"
   ]
  },
  {
   "cell_type": "code",
   "execution_count": 43,
   "metadata": {
    "colab": {
     "base_uri": "https://localhost:8080/",
     "height": 464
    },
    "executionInfo": {
     "elapsed": 3640,
     "status": "ok",
     "timestamp": 1607445912474,
     "user": {
      "displayName": "Not Aladeen",
      "photoUrl": "",
      "userId": "08289233199743352958"
     },
     "user_tz": -330
    },
    "id": "iCDuprFODyZ8",
    "outputId": "be6da66e-2eac-4c4a-9c46-48f8767b4437"
   },
   "outputs": [
    {
     "data": {
      "image/png": "[encoded data removed]",
      "text/plain": [
       "<Figure size 504x504 with 2 Axes>"
      ]
     },
     "metadata": {},
     "output_type": "display_data"
    }
   ],
   "source": [
    "target_data = data[cols_target]\n",
    "colormap = plt.cm.plasma\n",
    "plt.figure(figsize=(7,7))\n",
    "plt.title('Correlation of features & targets',y=1.05,size=14)\n",
    "sns.heatmap(target_data.astype(float).corr(),linewidths=0.1,vmax=1.0,square=True,cmap=colormap,\n",
    "           linecolor='white',annot=True)\n",
    "\n",
    "plt.show()"
   ]
  },
  {
   "cell_type": "code",
   "execution_count": 44,
   "metadata": {
    "colab": {
     "base_uri": "https://localhost:8080/"
    },
    "executionInfo": {
     "elapsed": 3624,
     "status": "ok",
     "timestamp": 1607445912476,
     "user": {
      "displayName": "Not Aladeen",
      "photoUrl": "",
      "userId": "08289233199743352958"
     },
     "user_tz": -330
    },
    "id": "mvbJQ-fjD3ku",
    "outputId": "12905c1b-b785-4543-a244-657d6236bb7f"
   },
   "outputs": [
    {
     "name": "stdout",
     "output_type": "stream",
     "text": [
      "0    143346\n",
      "1      6360\n",
      "3      4209\n",
      "2      3480\n",
      "4      1760\n",
      "5       385\n",
      "6        31\n",
      "Name: block, dtype: int64\n",
      "0    143346\n",
      "1     16225\n",
      "Name: block, dtype: int64\n"
     ]
    }
   ],
   "source": [
    "data['block'] =data[cols_target].sum(axis =1)\n",
    "print(data['block'].value_counts())\n",
    "data['block'] = data['block'] > 0 \n",
    "data['block'] = data['block'].astype(int)\n",
    "print(data['block'].value_counts())"
   ]
  },
  {
   "cell_type": "code",
   "execution_count": 45,
   "metadata": {
    "colab": {
     "base_uri": "https://localhost:8080/",
     "height": 285
    },
    "executionInfo": {
     "elapsed": 3605,
     "status": "ok",
     "timestamp": 1607445912477,
     "user": {
      "displayName": "Not Aladeen",
      "photoUrl": "",
      "userId": "08289233199743352958"
     },
     "user_tz": -330
    },
    "id": "M8bCUHh_EE2E",
    "outputId": "8b3762e2-4d9a-4440-f072-dc64372de9ed"
   },
   "outputs": [
    {
     "data": {
      "image/png": "[encoded data removed]",
      "text/plain": [
       "<Figure size 432x288 with 1 Axes>"
      ]
     },
     "metadata": {},
     "output_type": "display_data"
    }
   ],
   "source": [
    "sns.set()\n",
    "sns.countplot(x=\"block\" , data = data )\n",
    "plt.show()"
   ]
  },
  {
   "cell_type": "code",
   "execution_count": 46,
   "metadata": {
    "executionInfo": {
     "elapsed": 4400,
     "status": "ok",
     "timestamp": 1607445913289,
     "user": {
      "displayName": "Not Aladeen",
      "photoUrl": "",
      "userId": "08289233199743352958"
     },
     "user_tz": -330
    },
    "id": "yxLnyMIDEJgz"
   },
   "outputs": [],
   "source": [
    "data['char_length'] = data['comment_text'].apply(lambda x: len(str(x)))"
   ]
  },
  {
   "cell_type": "code",
   "execution_count": 47,
   "metadata": {
    "colab": {
     "base_uri": "https://localhost:8080/",
     "height": 268
    },
    "executionInfo": {
     "elapsed": 4390,
     "status": "ok",
     "timestamp": 1607445913294,
     "user": {
      "displayName": "Not Aladeen",
      "photoUrl": "",
      "userId": "08289233199743352958"
     },
     "user_tz": -330
    },
    "id": "3pUyZiSIEPTr",
    "outputId": "f072de04-4d2a-4128-fcf2-b523e342a25f"
   },
   "outputs": [
    {
     "data": {
      "image/png": "[encoded data removed]",
      "text/plain": [
       "<Figure size 432x288 with 1 Axes>"
      ]
     },
     "metadata": {},
     "output_type": "display_data"
    }
   ],
   "source": [
    "sns.set()\n",
    "data['char_length'].hist()\n",
    "plt.show()"
   ]
  },
  {
   "cell_type": "markdown",
   "metadata": {
    "id": "5Wt6hojJEYH3"
   },
   "source": [
    "## Text Cleaning"
   ]
  },
  {
   "cell_type": "code",
   "execution_count": 48,
   "metadata": {
    "executionInfo": {
     "elapsed": 4375,
     "status": "ok",
     "timestamp": 1607445913296,
     "user": {
      "displayName": "Not Aladeen",
      "photoUrl": "",
      "userId": "08289233199743352958"
     },
     "user_tz": -330
    },
    "id": "xubKl561ER0r"
   },
   "outputs": [],
   "source": [
    "def clean_text(text):\n",
    "    text = text.lower()\n",
    "    text = re.sub(r\"what's\", \"what is \", text)\n",
    "    text = re.sub(r\"\\'s\", \" \", text)\n",
    "    text = re.sub(r\"\\'ve\", \" have \", text)\n",
    "    text = re.sub(r\"can't\", \"cannot \", text)\n",
    "    text = re.sub(r\"n't\", \" not \", text)\n",
    "    text = re.sub(r\"i'm\", \"i am \", text)\n",
    "    text = re.sub(r\"\\'re\", \" are \", text)\n",
    "    text = re.sub(r\"\\'d\", \" would \", text)\n",
    "    text = re.sub(r\"\\'ll\", \" will \", text)\n",
    "    text = re.sub(r\"\\'scuse\", \" excuse \", text)\n",
    "    text = re.sub('\\W', ' ', text)\n",
    "    text = re.sub('\\s+', ' ', text)\n",
    "    text = text.strip(' ')\n",
    "    return text"
   ]
  },
  {
   "cell_type": "code",
   "execution_count": 49,
   "metadata": {
    "colab": {
     "base_uri": "https://localhost:8080/"
    },
    "executionInfo": {
     "elapsed": 13081,
     "status": "ok",
     "timestamp": 1607445922015,
     "user": {
      "displayName": "Not Aladeen",
      "photoUrl": "",
      "userId": "08289233199743352958"
     },
     "user_tz": -330
    },
    "id": "VYPTxWlaEalj",
    "outputId": "f9c2fe12-ce9b-4687-8693-b24e09878c6a"
   },
   "outputs": [
    {
     "name": "stdout",
     "output_type": "stream",
     "text": [
      "Wall time: 26.5 s\n"
     ]
    }
   ],
   "source": [
    "%%time \n",
    "\n",
    "data['comment_text'] = data['comment_text'].map(lambda com : clean_text(com))\n"
   ]
  },
  {
   "cell_type": "code",
   "execution_count": 50,
   "metadata": {
    "executionInfo": {
     "elapsed": 13068,
     "status": "ok",
     "timestamp": 1607445922018,
     "user": {
      "displayName": "Not Aladeen",
      "photoUrl": "",
      "userId": "08289233199743352958"
     },
     "user_tz": -330
    },
    "id": "kILC3_mEEf4M"
   },
   "outputs": [],
   "source": [
    "from sklearn.model_selection import train_test_split\n",
    "\n",
    "X_train, X_test, y_train, y_test = train_test_split(data['comment_text'], data['block'], test_size=0.2, random_state=42)"
   ]
  },
  {
   "cell_type": "code",
   "execution_count": 51,
   "metadata": {
    "colab": {
     "base_uri": "https://localhost:8080/"
    },
    "executionInfo": {
     "elapsed": 13058,
     "status": "ok",
     "timestamp": 1607445922020,
     "user": {
      "displayName": "Not Aladeen",
      "photoUrl": "",
      "userId": "08289233199743352958"
     },
     "user_tz": -330
    },
    "id": "eY0lShiKEkij",
    "outputId": "ecc16bcb-d1d9-4e9c-9c08-9f278eba3456"
   },
   "outputs": [
    {
     "name": "stdout",
     "output_type": "stream",
     "text": [
      "(127656,) (31915,)\n",
      "(127656,) (31915,)\n"
     ]
    }
   ],
   "source": [
    "print(X_train.shape, X_test.shape)\n",
    "print(y_train.shape, y_test.shape)"
   ]
  },
  {
   "cell_type": "code",
   "execution_count": 65,
   "metadata": {
    "colab": {
     "base_uri": "https://localhost:8080/"
    },
    "executionInfo": {
     "elapsed": 13044,
     "status": "ok",
     "timestamp": 1607445922023,
     "user": {
      "displayName": "Not Aladeen",
      "photoUrl": "",
      "userId": "08289233199743352958"
     },
     "user_tz": -330
    },
    "id": "NKHsTmgREno1",
    "outputId": "5e2c538a-a61a-4694-8912-bec97bca7fb9"
   },
   "outputs": [
    {
     "name": "stdout",
     "output_type": "stream",
     "text": [
      "TfidfVectorizer(max_features=10000, stop_words='english')\n"
     ]
    }
   ],
   "source": [
    "from sklearn.feature_extraction.text import CountVectorizer\n",
    "from sklearn.feature_extraction.text import TfidfVectorizer\n",
    "vect = TfidfVectorizer(max_features = 10000, stop_words='english')\n",
    "#vect = TfidfVectorizer(stop_words='english')\n",
    "print(vect)\n",
    "pickle.dump(vect, open(\"vectorizer.pickle\", \"wb\"))"
   ]
  },
  {
   "cell_type": "code",
   "execution_count": 53,
   "metadata": {
    "executionInfo": {
     "elapsed": 13030,
     "status": "ok",
     "timestamp": 1607445922025,
     "user": {
      "displayName": "Not Aladeen",
      "photoUrl": "",
      "userId": "08289233199743352958"
     },
     "user_tz": -330
    },
    "id": "GWeVfs5DK9wD"
   },
   "outputs": [],
   "source": [
    "vect = pickle.load(open(\"vectorizer.pickle\", 'rb'))"
   ]
  },
  {
   "cell_type": "code",
   "execution_count": 66,
   "metadata": {
    "colab": {
     "base_uri": "https://localhost:8080/"
    },
    "executionInfo": {
     "elapsed": 19882,
     "status": "ok",
     "timestamp": 1607445928887,
     "user": {
      "displayName": "Not Aladeen",
      "photoUrl": "",
      "userId": "08289233199743352958"
     },
     "user_tz": -330
    },
    "id": "c9mDfjPJErOU",
    "outputId": "38be042d-390f-4fb1-9d6c-397ed1d591f4"
   },
   "outputs": [
    {
     "name": "stdout",
     "output_type": "stream",
     "text": [
      "Wall time: 17 s\n"
     ]
    }
   ],
   "source": [
    "%%time \n",
    "\n",
    "X_train_dtm = vect.fit_transform(X_train)\n",
    "\n",
    "X_train_dtm"
   ]
  },
  {
   "cell_type": "code",
   "execution_count": 67,
   "metadata": {},
   "outputs": [],
   "source": [
    "pickle.dump(vect, open(\"vectorizer.pickle\", \"wb\"))"
   ]
  },
  {
   "cell_type": "code",
   "execution_count": 69,
   "metadata": {},
   "outputs": [],
   "source": [
    "vect = pickle.load(open(\"vectorizer.pickle\", 'rb'))"
   ]
  },
  {
   "cell_type": "code",
   "execution_count": 70,
   "metadata": {
    "colab": {
     "base_uri": "https://localhost:8080/"
    },
    "executionInfo": {
     "elapsed": 19873,
     "status": "ok",
     "timestamp": 1607445928889,
     "user": {
      "displayName": "Not Aladeen",
      "photoUrl": "",
      "userId": "08289233199743352958"
     },
     "user_tz": -330
    },
    "id": "wfUJvua6Ewrc",
    "outputId": "55db9e23-a5a4-4f3a-94c1-3b962ccd43f3"
   },
   "outputs": [
    {
     "data": {
      "text/plain": [
       "(127656, 10000)"
      ]
     },
     "execution_count": 70,
     "metadata": {},
     "output_type": "execute_result"
    }
   ],
   "source": [
    "X_train_dtm.shape"
   ]
  },
  {
   "cell_type": "code",
   "execution_count": 71,
   "metadata": {
    "colab": {
     "base_uri": "https://localhost:8080/"
    },
    "executionInfo": {
     "elapsed": 21731,
     "status": "ok",
     "timestamp": 1607445930759,
     "user": {
      "displayName": "Not Aladeen",
      "photoUrl": "",
      "userId": "08289233199743352958"
     },
     "user_tz": -330
    },
    "id": "QF_KkKwxE0GU",
    "outputId": "2584bd58-bc53-4c48-9b46-d43fbee432cc"
   },
   "outputs": [
    {
     "name": "stdout",
     "output_type": "stream",
     "text": [
      "Wall time: 4.03 s\n"
     ]
    }
   ],
   "source": [
    "%%time\n",
    "X_test_dtm = vect.transform(X_test)\n",
    "\n",
    "X_test_dtm"
   ]
  },
  {
   "cell_type": "code",
   "execution_count": 72,
   "metadata": {
    "colab": {
     "base_uri": "https://localhost:8080/"
    },
    "executionInfo": {
     "elapsed": 21722,
     "status": "ok",
     "timestamp": 1607445930761,
     "user": {
      "displayName": "Not Aladeen",
      "photoUrl": "",
      "userId": "08289233199743352958"
     },
     "user_tz": -330
    },
    "id": "qrd4qT3tKHPz",
    "outputId": "4502622a-1641-4e74-e1c2-9655e0144455"
   },
   "outputs": [
    {
     "data": {
      "text/plain": [
       "(31915, 10000)"
      ]
     },
     "execution_count": 72,
     "metadata": {},
     "output_type": "execute_result"
    }
   ],
   "source": [
    "X_test_dtm.shape"
   ]
  },
  {
   "cell_type": "code",
   "execution_count": 73,
   "metadata": {
    "colab": {
     "base_uri": "https://localhost:8080/"
    },
    "executionInfo": {
     "elapsed": 24403,
     "status": "ok",
     "timestamp": 1607445933454,
     "user": {
      "displayName": "Not Aladeen",
      "photoUrl": "",
      "userId": "08289233199743352958"
     },
     "user_tz": -330
    },
    "id": "DbBD2kwEE8cz",
    "outputId": "31f09cae-b4bd-4cd7-b2d7-f400f4d2b989"
   },
   "outputs": [
    {
     "name": "stdout",
     "output_type": "stream",
     "text": [
      "Training accuracy is 0.9594613649182178\n",
      "Test accuracy is 0.9563214789284036\n",
      "[[28507   164]\n",
      " [ 1230  2014]]\n"
     ]
    }
   ],
   "source": [
    "from sklearn.linear_model import LogisticRegression\n",
    "from sklearn.metrics import accuracy_score\n",
    "from sklearn.metrics import confusion_matrix\n",
    "logreg = LogisticRegression(C=1, max_iter = 2000)\n",
    "import pickle\n",
    "\n",
    "\n",
    "\n",
    "# train the model using X_train_dtm & y_train\n",
    "logreg.fit(X_train_dtm, y_train)\n",
    "filename = \"lr_model.pkl\"\n",
    "pickle.dump(logreg, open(filename, 'wb'))\n",
    "# compute the training accuracy\n",
    "y_pred_train = logreg.predict(X_train_dtm)\n",
    "print('Training accuracy is {}'.format(accuracy_score(y_train, y_pred_train)))\n",
    "# compute the predicted probabilities for X_test_dtm\n",
    "y_pred_test = logreg.predict(X_test_dtm)\n",
    "print('Test accuracy is {}'.format(accuracy_score(y_test,y_pred_test)))\n",
    "print(confusion_matrix(y_test,y_pred_test))"
   ]
  },
  {
   "cell_type": "code",
   "execution_count": 59,
   "metadata": {
    "executionInfo": {
     "elapsed": 24394,
     "status": "ok",
     "timestamp": 1607445933457,
     "user": {
      "displayName": "Not Aladeen",
      "photoUrl": "",
      "userId": "08289233199743352958"
     },
     "user_tz": -330
    },
    "id": "QgdqGMpOFcyo"
   },
   "outputs": [],
   "source": [
    "#!pwd\n",
    "#cd /content/drive/MyDrive/projects/textclassification"
   ]
  },
  {
   "cell_type": "markdown",
   "metadata": {
    "id": "wIVKZjnAGiij"
   },
   "source": [
    "## Testing model for custom inputs"
   ]
  },
  {
   "cell_type": "code",
   "execution_count": 60,
   "metadata": {
    "executionInfo": {
     "elapsed": 24387,
     "status": "ok",
     "timestamp": 1607445933459,
     "user": {
      "displayName": "Not Aladeen",
      "photoUrl": "",
      "userId": "08289233199743352958"
     },
     "user_tz": -330
    },
    "id": "UKyft-_JFdcw"
   },
   "outputs": [],
   "source": [
    "import pickle\n",
    "model = pickle.load(open(\"lr_model.pkl\", 'rb'))"
   ]
  },
  {
   "cell_type": "code",
   "execution_count": 61,
   "metadata": {
    "executionInfo": {
     "elapsed": 24380,
     "status": "ok",
     "timestamp": 1607445933461,
     "user": {
      "displayName": "Not Aladeen",
      "photoUrl": "",
      "userId": "08289233199743352958"
     },
     "user_tz": -330
    },
    "id": "i-_4Y1GhGqbj"
   },
   "outputs": [],
   "source": [
    "vect = pickle.load(open(\"vectorizer.pickle\", 'rb'))\n",
    "sen = [\" FCUK\"]"
   ]
  },
  {
   "cell_type": "code",
   "execution_count": null,
   "metadata": {
    "executionInfo": {
     "elapsed": 24374,
     "status": "ok",
     "timestamp": 1607445933464,
     "user": {
      "displayName": "Not Aladeen",
      "photoUrl": "",
      "userId": "08289233199743352958"
     },
     "user_tz": -330
    },
    "id": "J5F2qAYzGy0k"
   },
   "outputs": [],
   "source": []
  },
  {
   "cell_type": "code",
   "execution_count": null,
   "metadata": {
    "colab": {
     "base_uri": "https://localhost:8080/"
    },
    "executionInfo": {
     "elapsed": 24367,
     "status": "ok",
     "timestamp": 1607445933466,
     "user": {
      "displayName": "Not Aladeen",
      "photoUrl": "",
      "userId": "08289233199743352958"
     },
     "user_tz": -330
    },
    "id": "aypCjBE_G9J7",
    "outputId": "5c05febe-541f-446d-ec8a-1d985674ee61"
   },
   "outputs": [],
   "source": []
  },
  {
   "cell_type": "code",
   "execution_count": 63,
   "metadata": {
    "colab": {
     "base_uri": "https://localhost:8080/"
    },
    "executionInfo": {
     "elapsed": 24358,
     "status": "ok",
     "timestamp": 1607445933468,
     "user": {
      "displayName": "Not Aladeen",
      "photoUrl": "",
      "userId": "08289233199743352958"
     },
     "user_tz": -330
    },
    "id": "uJUG0bW7HGjq",
    "outputId": "6de1444b-e2dd-45a3-f547-bb268c2f0bbf"
   },
   "outputs": [
    {
     "name": "stdout",
     "output_type": "stream",
     "text": [
      "[' FCUK']\n",
      "  (0, 9687)\t1.0\n"
     ]
    }
   ],
   "source": [
    "print(sen)\n",
    "print(sen_trans)"
   ]
  },
  {
   "cell_type": "code",
   "execution_count": 8,
   "metadata": {
    "executionInfo": {
     "elapsed": 24350,
     "status": "ok",
     "timestamp": 1607445933471,
     "user": {
      "displayName": "Not Aladeen",
      "photoUrl": "",
      "userId": "08289233199743352958"
     },
     "user_tz": -330
    },
    "id": "_d-a0WUVHtNr"
   },
   "outputs": [],
   "source": [
    "p = model.predict(sen_trans)"
   ]
  },
  {
   "cell_type": "code",
   "execution_count": 9,
   "metadata": {
    "colab": {
     "base_uri": "https://localhost:8080/"
    },
    "executionInfo": {
     "elapsed": 24345,
     "status": "ok",
     "timestamp": 1607445933477,
     "user": {
      "displayName": "Not Aladeen",
      "photoUrl": "",
      "userId": "08289233199743352958"
     },
     "user_tz": -330
    },
    "id": "qPd2McW5IHVH",
    "outputId": "d74ea156-b1d3-40b0-f712-e3665a662ba1"
   },
   "outputs": [
    {
     "name": "stdout",
     "output_type": "stream",
     "text": [
      "[0]\n"
     ]
    }
   ],
   "source": [
    "print(p)"
   ]
  },
  {
   "cell_type": "code",
   "execution_count": 75,
   "metadata": {
    "colab": {
     "base_uri": "https://localhost:8080/"
    },
    "executionInfo": {
     "elapsed": 1075,
     "status": "ok",
     "timestamp": 1607446083478,
     "user": {
      "displayName": "Not Aladeen",
      "photoUrl": "",
      "userId": "08289233199743352958"
     },
     "user_tz": -330
    },
    "id": "BQUvieOgMNlR",
    "outputId": "94f393cb-66d8-4e4e-cecd-43971a16d700"
   },
   "outputs": [
    {
     "name": "stdout",
     "output_type": "stream",
     "text": [
      "toxic\n"
     ]
    }
   ],
   "source": [
    "sen = [\"COCKSUCKER BEFORE YOU PISS AROUND ON MY WORK\"]\n",
    "sen_trans = vect.transform(sen)\n",
    "p = model.predict(sen_trans)[0]\n",
    "validity = [\"allowed\",\"toxic\"]\n",
    "print(validity[p])\n"
   ]
  },
  {
   "cell_type": "code",
   "execution_count": 76,
   "metadata": {
    "executionInfo": {
     "elapsed": 24335,
     "status": "ok",
     "timestamp": 1607445933481,
     "user": {
      "displayName": "Not Aladeen",
      "photoUrl": "",
      "userId": "08289233199743352958"
     },
     "user_tz": -330
    },
    "id": "T7D7mPLzOnrH"
   },
   "outputs": [],
   "source": [
    "import pandas as pd\n"
   ]
  },
  {
   "cell_type": "code",
   "execution_count": 77,
   "metadata": {},
   "outputs": [],
   "source": [
    "file = pd.read_csv(\"./dataset/bad-words.csv\")"
   ]
  },
  {
   "cell_type": "code",
   "execution_count": 79,
   "metadata": {},
   "outputs": [],
   "source": [
    "#file"
   ]
  },
  {
   "cell_type": "code",
   "execution_count": 80,
   "metadata": {},
   "outputs": [],
   "source": [
    "badwords = file[\"jigaboo\"].values.tolist()"
   ]
  },
  {
   "cell_type": "code",
   "execution_count": 88,
   "metadata": {},
   "outputs": [],
   "source": [
    "badwords.extend([\n",
    "'2g1c',\n",
    "'2 girls 1 cup',\n",
    "'acrotomophilia',\n",
    "'anal',\n",
    "'anilingus',\n",
    "'anus',\n",
    "'arsehole',\n",
    "'ass',\n",
    "'asshole',\n",
    "'assmunch',\n",
    "'auto erotic',\n",
    "'autoerotic',\n",
    "'babeland',\n",
    "'baby batter',\n",
    "'ball gag',\n",
    "'ball gravy',\n",
    "'ball kicking',\n",
    "'ball licking',\n",
    "'ball sack',\n",
    "'ball sucking',\n",
    "'bangbros',\n",
    "'bareback',\n",
    "'barely legal',\n",
    "'barenaked',\n",
    "'bastardo',\n",
    "'bastinado',\n",
    "'bbw',\n",
    "'bdsm',\n",
    "'beaver cleaver',\n",
    "'beaver lips',\n",
    "'bestiality',\n",
    "'bi curious',\n",
    "'big black',\n",
    "'big breasts',\n",
    "'big knockers',\n",
    "'big tits',\n",
    "'bimbos',\n",
    "'birdlock',\n",
    "'bitch',\n",
    "'black cock',\n",
    "'blonde action',\n",
    "'blonde on blonde action',\n",
    "'blow j',\n",
    "'blow your l',\n",
    "'blue waffle',\n",
    "'blumpkin',\n",
    "'bollocks',\n",
    "'bondage',\n",
    "'boner',\n",
    "'boob',\n",
    "'boobs',\n",
    "'booty call',\n",
    "'brown showers',\n",
    "'brunette action',\n",
    "'bukkake',\n",
    "'bulldyke',\n",
    "'bullet vibe',\n",
    "'bung hole',\n",
    "'bunghole',\n",
    "'busty',\n",
    "'butt',\n",
    "'buttcheeks',\n",
    "'butthole',\n",
    "'camel toe',\n",
    "'camgirl',\n",
    "'camslut',\n",
    "'camwhore',\n",
    "'carpet muncher',\n",
    "'carpetmuncher',\n",
    "'chocolate rosebuds',\n",
    "'circlejerk',\n",
    "'cleveland steamer',\n",
    "'clit',\n",
    "'clitoris',\n",
    "'clover clamps',\n",
    "'clusterfuck',\n",
    "'cock',\n",
    "'cocks',\n",
    "'coprolagnia',\n",
    "'coprophilia',\n",
    "'cornhole',\n",
    "'cum',\n",
    "'cumming',\n",
    "'cunnilingus',\n",
    "'cunt',\n",
    "'darkie',\n",
    "'date rape',\n",
    "'daterape',\n",
    "'deep throat',\n",
    "'deepthroat',\n",
    "'dick',\n",
    "'dildo',\n",
    "'dirty pillows',\n",
    "'dirty sanchez',\n",
    "'dog style',\n",
    "'doggie style',\n",
    "'doggiestyle',\n",
    "'doggy style',\n",
    "'doggystyle',\n",
    "'dolcett',\n",
    "'domination',\n",
    "'dominatrix',\n",
    "'dommes',\n",
    "'donkey punch',\n",
    "'double dong',\n",
    "'double penetration',\n",
    "'dp action',\n",
    "'eat my ass',\n",
    "'ecchi',\n",
    "'ejaculation',\n",
    "'erotic',\n",
    "'erotism',\n",
    "'escort',\n",
    "'ethical slut',\n",
    "'eunuch',\n",
    "'faggot',\n",
    "'fecal',\n",
    "'felch',\n",
    "'fellatio',\n",
    "'feltch',\n",
    "'female squirting',\n",
    "'femdom',\n",
    "'figging',\n",
    "'fingering',\n",
    "'fisting',\n",
    "'foot fetish',\n",
    "'footjob',\n",
    "'frotting',\n",
    "'fuck',\n",
    "'fucking',\n",
    "'fuck buttons',\n",
    "'fudge packer',\n",
    "'fudgepacker',\n",
    "'futanari',\n",
    "'g-spot',\n",
    "'gang bang',\n",
    "'gay sex',\n",
    "'genitals',\n",
    "'giant cock',\n",
    "'girl on',\n",
    "'girl on top',\n",
    "'girls gone wild',\n",
    "'goatcx',\n",
    "'goatse',\n",
    "'gokkun',\n",
    "'golden shower',\n",
    "'goo girl',\n",
    "'goodpoop',\n",
    "'goregasm',\n",
    "'grope',\n",
    "'group sex',\n",
    "'guro',\n",
    "'hand job',\n",
    "'handjob',\n",
    "'hard core',\n",
    "'hardcore',\n",
    "'hentai',\n",
    "'homoerotic',\n",
    "'honkey',\n",
    "'hooker',\n",
    "'hot chick',\n",
    "'how to kill',\n",
    "'how to murder',\n",
    "'huge fat',\n",
    "'humping',\n",
    "'incest',\n",
    "'intercourse',\n",
    "'jack off',\n",
    "'jail bait',\n",
    "'jailbait',\n",
    "'jerk off',\n",
    "'jigaboo',\n",
    "'jiggaboo',\n",
    "'jiggerboo',\n",
    "'jizz',\n",
    "'juggs',\n",
    "'kike',\n",
    "'kinbaku',\n",
    "'kinkster',\n",
    "'kinky',\n",
    "'knobbing',\n",
    "'leather restraint',\n",
    "'leather straight jacket',\n",
    "'lemon party',\n",
    "'lolita',\n",
    "'lovemaking',\n",
    "'make me come',\n",
    "'male squirting',\n",
    "'masturbate',\n",
    "'menage a trois',\n",
    "'milf',\n",
    "'missionary position',\n",
    "'motherfucker',\n",
    "'mound of venus',\n",
    "'mr hands',\n",
    "'muff diver',\n",
    "'muffdiving',\n",
    "'nambla',\n",
    "'nawashi',\n",
    "'negro',\n",
    "'neonazi',\n",
    "'nig nog',\n",
    "'nigga',\n",
    "'nigger',\n",
    "'nimphomania',\n",
    "'nipple',\n",
    "'nipples',\n",
    "'nsfw images',\n",
    "'nude',\n",
    "'nudity',\n",
    "'nympho',\n",
    "'nymphomania',\n",
    "'octopussy',\n",
    "'omorashi',\n",
    "'one cup two girls',\n",
    "'one guy one jar',\n",
    "'orgasm',\n",
    "'orgy',\n",
    "'paedophile',\n",
    "'panties',\n",
    "'panty',\n",
    "'pedobear',\n",
    "'pedophile',\n",
    "'pegging',\n",
    "'penis',\n",
    "'phone sex',\n",
    "'piece of shit',\n",
    "'piss pig',\n",
    "'pissing',\n",
    "'pisspig',\n",
    "'playboy',\n",
    "'pleasure chest',\n",
    "'pole smoker',\n",
    "'ponyplay',\n",
    "'poof',\n",
    "'poop chute',\n",
    "'poopchute',\n",
    "'porn',\n",
    "'porno',\n",
    "'pornography',\n",
    "'prince albert piercing',\n",
    "'pthc',\n",
    "'pubes',\n",
    "'pussy',\n",
    "'queaf',\n",
    "'raghead',\n",
    "'raging boner',\n",
    "'rape',\n",
    "'raping',\n",
    "'rapist',\n",
    "'rectum',\n",
    "'reverse cowgirl',\n",
    "'rimjob',\n",
    "'rimming',\n",
    "'rosy palm',\n",
    "'rosy palm and her 5 sisters',\n",
    "'rusty trombone',\n",
    "'s&m',\n",
    "'sadism',\n",
    "'scat',\n",
    "'schlong',\n",
    "'scissoring',\n",
    "'semen',\n",
    "'sex',\n",
    "'sexo',\n",
    "'sexy',\n",
    "'shaved beaver',\n",
    "'shaved pussy',\n",
    "'shemale',\n",
    "'shibari',\n",
    "'shit',\n",
    "'shota',\n",
    "'shrimping',\n",
    "'slanteye',\n",
    "'slut',\n",
    "'smut',\n",
    "'snatch',\n",
    "'snowballing',\n",
    "'sodomize',\n",
    "'sodomy',\n",
    "'spic',\n",
    "'spooge',\n",
    "'spread legs',\n",
    "'strap on',\n",
    "'strapon',\n",
    "'strappado',\n",
    "'strip club',\n",
    "'style doggy',\n",
    "'suck',\n",
    "'sucks',\n",
    "'suicide girls',\n",
    "'sultry women',\n",
    "'swastika',\n",
    "'swinger',\n",
    "'tainted love',\n",
    "'taste my',\n",
    "'tea bagging',\n",
    "'threesome',\n",
    "'throating',\n",
    "'tied up',\n",
    "'tight white',\n",
    "'tit',\n",
    "'tits',\n",
    "'titties',\n",
    "'titty',\n",
    "'tongue in a',\n",
    "'topless',\n",
    "'tosser',\n",
    "'towelhead',\n",
    "'tranny',\n",
    "'tribadism',\n",
    "'tub girl',\n",
    "'tubgirl',\n",
    "'tushy',\n",
    "'twat',\n",
    "'twink',\n",
    "'twinkie',\n",
    "'two girls one cup',\n",
    "'undressing',\n",
    "'upskirt',\n",
    "'urethra play',\n",
    "'urophilia',\n",
    "'vagina',\n",
    "'venus mound',\n",
    "'vibrator',\n",
    "'violet blue',\n",
    "'violet wand',\n",
    "'vorarephilia',\n",
    "'voyeur',\n",
    "'vulva',\n",
    "'wank',\n",
    "'wet dream',\n",
    "'wetback',\n",
    "'white power',\n",
    "'women rapping',\n",
    "'wrapping men',\n",
    "'wrinkled starfish',\n",
    "'xx',\n",
    "'xxx',\n",
    "'yaoi',\n",
    "'yellow showers',\n",
    "'yiffy',\n",
    "'zoophilia'])"
   ]
  },
  {
   "cell_type": "code",
   "execution_count": 81,
   "metadata": {},
   "outputs": [],
   "source": [
    "import pickle"
   ]
  },
  {
   "cell_type": "code",
   "execution_count": 89,
   "metadata": {},
   "outputs": [],
   "source": [
    "badwordset = set(badwords)"
   ]
  },
  {
   "cell_type": "code",
   "execution_count": 90,
   "metadata": {},
   "outputs": [],
   "source": [
    "pickle.dump(badwordset,open(\"bwset.pkl\",\"wb\"))"
   ]
  },
  {
   "cell_type": "code",
   "execution_count": 91,
   "metadata": {},
   "outputs": [],
   "source": [
    "bwset = pickle.load(open(\"bwset.pkl\",\"rb\"))"
   ]
  },
  {
   "cell_type": "code",
   "execution_count": 95,
   "metadata": {},
   "outputs": [],
   "source": [
    "def ifbadword(string):#return true if string contains any bad word\n",
    "    for i in string.split():\n",
    "        if i in bwset:\n",
    "            return True\n",
    "    return False"
   ]
  },
  {
   "cell_type": "code",
   "execution_count": 100,
   "metadata": {},
   "outputs": [],
   "source": [
    "y = ifbadword(\"deep\")"
   ]
  },
  {
   "cell_type": "code",
   "execution_count": 101,
   "metadata": {},
   "outputs": [
    {
     "data": {
      "text/plain": [
       "False"
      ]
     },
     "execution_count": 101,
     "metadata": {},
     "output_type": "execute_result"
    }
   ],
   "source": [
    "y"
   ]
  },
  {
   "cell_type": "markdown",
   "metadata": {},
   "source": [
    "## Final "
   ]
  },
  {
   "cell_type": "code",
   "execution_count": null,
   "metadata": {},
   "outputs": [],
   "source": [
    "\n",
    "\n"
   ]
  },
  {
   "cell_type": "code",
   "execution_count": 102,
   "metadata": {},
   "outputs": [],
   "source": [
    "finalmodel = pickle.load(open(\"lr_model.pkl\", 'rb'))"
   ]
  },
  {
   "cell_type": "code",
   "execution_count": 103,
   "metadata": {},
   "outputs": [],
   "source": [
    "finalvect = pickle.load(open(\"vectorizer.pickle\",\"rb\"))"
   ]
  },
  {
   "cell_type": "code",
   "execution_count": 105,
   "metadata": {},
   "outputs": [],
   "source": [
    "finalbwset = pickle.load(open(\"bwset.pkl\",\"rb\"))"
   ]
  },
  {
   "cell_type": "code",
   "execution_count": 133,
   "metadata": {},
   "outputs": [],
   "source": [
    "def is_normal(string):\n",
    "    test = [string]\n",
    "    sen_trans = vect.transform(test)\n",
    "    p = model.predict(sen_trans)[0]    # 0 for normal and 1 for toxic\n",
    "    if p==1:\n",
    "        return False\n",
    "    for i in string.split():\n",
    "        if i in finalbwset:\n",
    "            return False\n",
    "    return True\n",
    "    \n",
    "    "
   ]
  },
  {
   "cell_type": "code",
   "execution_count": 153,
   "metadata": {},
   "outputs": [],
   "source": [
    "l = \" \".join([\"i am sakib\" for i in range(5000)])"
   ]
  },
  {
   "cell_type": "code",
   "execution_count": 154,
   "metadata": {},
   "outputs": [
    {
     "data": {
      "text/plain": [
       "'Normal'"
      ]
     },
     "execution_count": 154,
     "metadata": {},
     "output_type": "execute_result"
    }
   ],
   "source": [
    "[\"Toxic\",\"Normal\"][is_normal(l)]"
   ]
  },
  {
   "cell_type": "code",
   "execution_count": null,
   "metadata": {},
   "outputs": [],
   "source": []
  }
 ],
 "metadata": {
  "colab": {
   "authorship_tag": "ABX9TyPpyzi8zvu2HCPZ/sItRBOf",
   "collapsed_sections": [],
   "mount_file_id": "1fsKzh2yH8DIYmtUuvaBcCtp_FpC3SQST",
   "name": "hatespeech.ipynb",
   "provenance": []
  },
  "kernelspec": {
   "display_name": "Python 3",
   "language": "python",
   "name": "python3"
  },
  "language_info": {
   "codemirror_mode": {
    "name": "ipython",
    "version": 3
   },
   "file_extension": ".py",
   "mimetype": "text/x-python",
   "name": "python",
   "nbconvert_exporter": "python",
   "pygments_lexer": "ipython3",
   "version": "3.6.5"
  }
 },
 "nbformat": 4,
 "nbformat_minor": 1
}
